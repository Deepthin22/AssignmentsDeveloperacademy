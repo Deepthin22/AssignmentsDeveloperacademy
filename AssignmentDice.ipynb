{
 "cells": [
  {
   "attachments": {},
   "cell_type": "markdown",
   "metadata": {},
   "source": [
    "Assignment 1 Dice Rolling Simulator\n",
    "\n",
    "The Goal of this project, like the title suggests, involves writing a program that simulates rolling a\n",
    "dice. When the program runs, it will randomly choose a number between 1 and 6. (Or whatever\n",
    "other integer you prefer — the number of sides on the die is up to you.) The program will print\n",
    "what that number is. It should then ask you if you’d like to roll again. For this project, you’ll need\n",
    "to set the min and max number that your dice can produce. For the average die, that means a\n",
    "minimum of 1 and a maximum of 6. You’ll also want a function that randomly grabs a number\n",
    "within that range and prints it."
   ]
  },
  {
   "cell_type": "code",
   "execution_count": 11,
   "metadata": {},
   "outputs": [
    {
     "name": "stdout",
     "output_type": "stream",
     "text": [
      "You rolled 2\n",
      "Do you want to roll again? y/n\n",
      "You rolled 4\n",
      "Do you want to roll again? y/n\n",
      "You rolled 1\n",
      "Do you want to roll again? y/n\n"
     ]
    }
   ],
   "source": [
    "import random\n",
    "\n",
    "repeat = True\n",
    "\n",
    "while repeat:\n",
    "\n",
    "    print(\"You rolled\",random.randint(1,6))\n",
    "\n",
    "    print(\"Do you want to roll again? y/n\")\n",
    "\n",
    "    repeat = \"y\" in input().lower()"
   ]
  }
 ],
 "metadata": {
  "kernelspec": {
   "display_name": "Python 3",
   "language": "python",
   "name": "python3"
  },
  "language_info": {
   "codemirror_mode": {
    "name": "ipython",
    "version": 3
   },
   "file_extension": ".py",
   "mimetype": "text/x-python",
   "name": "python",
   "nbconvert_exporter": "python",
   "pygments_lexer": "ipython3",
   "version": "3.10.2"
  },
  "orig_nbformat": 4,
  "vscode": {
   "interpreter": {
    "hash": "26de051ba29f2982a8de78e945f0abaf191376122a1563185a90213a26c5da77"
   }
  }
 },
 "nbformat": 4,
 "nbformat_minor": 2
}
