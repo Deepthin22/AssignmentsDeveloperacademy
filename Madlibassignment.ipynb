{
 "cells": [
  {
   "attachments": {},
   "cell_type": "markdown",
   "metadata": {},
   "source": [
    "Assignment 3 Mad Libs generator\n",
    "\n",
    "The program will first prompt the user for a series of inputs a la Mad Libs. \n",
    "For example, a singular noun, an adjective, etc. Then, once all the \n",
    "information has been inputted, the program will take that data and \n",
    "place them into a premade story template. You’ll need prompts for \n",
    "user input, and to then print out the full story at the end with \n",
    "the input included."
   ]
  },
  {
   "cell_type": "code",
   "execution_count": 1,
   "metadata": {},
   "outputs": [
    {
     "name": "stdout",
     "output_type": "stream",
     "text": [
      "Welcome to our Mad Libs generator!\n",
      "Let's begin!\n",
      "It was a Its a good day, cold winter day.\n",
      "I woke up to the its very cold smell of smell of flowers roasting in the livingroom downstairs.\n",
      "I balcony downstairs to see if I could  cooking  lunch for myself.\n",
      "So I carried a tray of glasses full of tea into the singing room.\n",
      "When I got there, I couldn't believe my hands!\n",
      "There were my sister calling dancing on the going to run!\n",
      "I don't want to play more..\n"
     ]
    }
   ],
   "source": [
    "\n",
    "while True:\n",
    "    \n",
    "    print(\"Welcome to our Mad Libs generator!\")\n",
    "\n",
    "    print(\"Let's begin!\")\n",
    "\n",
    "    adj_1 = input(\"First adjective: \")\n",
    "\n",
    "    adj_2 = input(\"Second adjective: \")\n",
    "\n",
    "    noun_1 = input(\"noun of your choice:\")\n",
    "\n",
    "    Room_1 = input(\"Room in a house: \")\n",
    "\n",
    "    verb_1 = input(\"Verb (Past Tense): \")\n",
    "\n",
    "    verb_2 = input(\"Another Verb: \")\n",
    "\n",
    "    liquid = input(\"A type of liquid: \")\n",
    "\n",
    "    verbing = input(\"A verb ending in 'ing': \")\n",
    "\n",
    "    body_part = input(\"A body part (plural): \")\n",
    "\n",
    "    noun_2 = input(\"Another noun (plural): \")\n",
    "\n",
    "    verbing2 = input(\"A verb ending in 'ing': \")\n",
    "\n",
    "    noun_3 = input(\"And lastly, another noun: \")\n",
    "\n",
    "    print(\"It was a {}, cold winter day.\".format(adj_1))\n",
    "\n",
    "    print(\"I woke up to the {} smell of {} roasting in the {} downstairs.\".format(adj_2, noun_1, Room_1))\n",
    "\n",
    "    print(\"I {} downstairs to see if I could  {}  lunch for myself.\".format(verb_1, verb_2))\n",
    "\n",
    "    print(\"So I carried a tray of glasses full of {} into the {} room.\".format(liquid,verbing))\n",
    "\n",
    "    print(\"When I got there, I couldn't believe my {}!\".format(body_part))\n",
    "\n",
    "    print(\"There were {} {} on the {}!\".format(noun_2, verbing2, noun_3))\n",
    "\n",
    "    replay = input(\"Do you want to play again? y/n :\")\n",
    "\n",
    "    if replay.lower() == 'y':\n",
    "\n",
    "        print(\"Let's do it!\")\n",
    "\n",
    "        continue\n",
    "\n",
    "    else:\n",
    "\n",
    "        print(\"I don't want to play more..\")\n",
    "\n",
    "        break"
   ]
  }
 ],
 "metadata": {
  "kernelspec": {
   "display_name": "Python 3",
   "language": "python",
   "name": "python3"
  },
  "language_info": {
   "codemirror_mode": {
    "name": "ipython",
    "version": 3
   },
   "file_extension": ".py",
   "mimetype": "text/x-python",
   "name": "python",
   "nbconvert_exporter": "python",
   "pygments_lexer": "ipython3",
   "version": "3.10.2"
  },
  "orig_nbformat": 4,
  "vscode": {
   "interpreter": {
    "hash": "26de051ba29f2982a8de78e945f0abaf191376122a1563185a90213a26c5da77"
   }
  }
 },
 "nbformat": 4,
 "nbformat_minor": 2
}
