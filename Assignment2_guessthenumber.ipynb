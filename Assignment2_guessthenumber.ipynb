{
 "cells": [
  {
   "attachments": {},
   "cell_type": "markdown",
   "metadata": {},
   "source": [
    "Assignment 2 Guess the number\n",
    "\n",
    "This project uses the random module in Python. The program will first randomly generate a\n",
    "number unknown to the user. The user needs to guess what that number is. (In other words, the\n",
    "user needs to be able to input information.) If the user’s guess is wrong, the program should\n",
    "return some sort of indication as to how wrong (e.g. The number is too high or too low). If the\n",
    "user guesses correctly, a positive indication should appear. You’ll need functions to check if the\n",
    "user input is an actual number, to see the difference between the inputted number and the\n",
    "randomly generated numbers, and to then compare the numbers."
   ]
  },
  {
   "cell_type": "code",
   "execution_count": 10,
   "metadata": {},
   "outputs": [
    {
     "name": "stdout",
     "output_type": "stream",
     "text": [
      "number is too low\n",
      "number is too low\n",
      "number is too low\n",
      "number is too low\n",
      "number is too low\n",
      "number is too low\n",
      "number is too high\n",
      "number is too high\n",
      "number is too low\n",
      "number is too low\n",
      "number is too low\n",
      "number is too low\n",
      "You got it correct!\n"
     ]
    }
   ],
   "source": [
    "\n",
    "## Python has a built-in module that you can use to make random numbers.\n",
    "# The random module has a set of methods\n",
    "# randint() is a method which  returns an integer number selected element from the specified range.\n",
    "import random\n",
    "num = random.randint(0, 101)\n",
    "\n",
    "## Defining a function.We have named it guess .\n",
    "def guess():\n",
    "    \n",
    "## We have to keep getting input from user until the guess is correct.using a while loop here for that \n",
    "    while True:\n",
    "        \n",
    "## Asking user to guess a number and assigning it to a variable x.\n",
    "        x = int(input('Guess a number 1 through 100: '))\n",
    "        \n",
    " ## Using IF statement to check if the number entered is the correct guess.\n",
    " # If the guess is correct then print “you got it correct message”.\n",
    " # ELSE IF the entered number is greater than the expected number print “number is too high .\n",
    " # ELSE print “number is too low”.\n",
    "\n",
    "        if x == num:\n",
    "\n",
    "            print(\"You got it correct!\")\n",
    "\n",
    "            break\n",
    "\n",
    "        elif x > num:\n",
    "\n",
    "            print(\"number is too high\")\n",
    "\n",
    "        else:\n",
    "\n",
    "            print(\"number is too low\")\n",
    "## call function guess() \n",
    "guess()"
   ]
  },
  {
   "cell_type": "code",
   "execution_count": 7,
   "metadata": {},
   "outputs": [
    {
     "name": "stdout",
     "output_type": "stream",
     "text": [
      "too high\n",
      "too low\n",
      "too high\n",
      "too low\n",
      "too low\n",
      "too high\n",
      "too low\n",
      "too low\n",
      "too high\n",
      "too high\n",
      "too high\n",
      "too high\n",
      "too high\n",
      "You got it!\n"
     ]
    }
   ],
   "source": [
    "##check this\n",
    "import random\n",
    "\n",
    "num = random.randint(0, 101)\n",
    "\n",
    "def guess1():\n",
    "\n",
    "    while True:\n",
    "\n",
    "        y = int(input('Guess a number one through one hundred: '))\n",
    "\n",
    "        if y == num:\n",
    "\n",
    "            print(\"You got it!\")\n",
    "\n",
    "            break\n",
    "\n",
    "        elif y > num:\n",
    "\n",
    "            print(\"too high\")\n",
    "\n",
    "        else:\n",
    "\n",
    "            print(\"too low\")\n",
    "\n",
    "guess1()"
   ]
  }
 ],
 "metadata": {
  "kernelspec": {
   "display_name": "Python 3",
   "language": "python",
   "name": "python3"
  },
  "language_info": {
   "codemirror_mode": {
    "name": "ipython",
    "version": 3
   },
   "file_extension": ".py",
   "mimetype": "text/x-python",
   "name": "python",
   "nbconvert_exporter": "python",
   "pygments_lexer": "ipython3",
   "version": "3.10.2"
  },
  "orig_nbformat": 4,
  "vscode": {
   "interpreter": {
    "hash": "26de051ba29f2982a8de78e945f0abaf191376122a1563185a90213a26c5da77"
   }
  }
 },
 "nbformat": 4,
 "nbformat_minor": 2
}
